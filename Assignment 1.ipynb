{
 "cells": [
  {
   "cell_type": "code",
   "execution_count": 6,
   "id": "a67853cd-1bd9-437c-8667-55b666936fb0",
   "metadata": {},
   "outputs": [],
   "source": [
    "pw = \"Q1\""
   ]
  },
  {
   "cell_type": "code",
   "execution_count": 1,
   "id": "9b3f9132-b10f-4ed8-9a7a-2129010820f0",
   "metadata": {},
   "outputs": [],
   "source": [
    "a = \"MAYANK\""
   ]
  },
  {
   "cell_type": "code",
   "execution_count": 2,
   "id": "804dd74c-fad3-4ff1-bad6-4086904eb8c3",
   "metadata": {},
   "outputs": [],
   "source": [
    "b = [1,2,3,3,'sudu',(3+7j),True,34.56 ]"
   ]
  },
  {
   "cell_type": "code",
   "execution_count": 3,
   "id": "65c0bb89-63b4-4e8f-bab2-6106c258e71b",
   "metadata": {},
   "outputs": [],
   "source": [
    "c = 2.44"
   ]
  },
  {
   "cell_type": "code",
   "execution_count": 7,
   "id": "fb90919b-ad20-40a4-8d33-0091245ac1fc",
   "metadata": {},
   "outputs": [],
   "source": [
    "d = (1,2,3,3,'sudu',(3+7j),True,34.56 )"
   ]
  },
  {
   "cell_type": "code",
   "execution_count": 8,
   "id": "f78c35df-4f3e-4e3a-9b65-66c66c0bab8d",
   "metadata": {},
   "outputs": [],
   "source": [
    "pw =\"Q2\""
   ]
  },
  {
   "cell_type": "code",
   "execution_count": 9,
   "id": "e8026151-652f-4744-a64e-8a4a95f8c669",
   "metadata": {},
   "outputs": [],
   "source": [
    "e =['var1,2sting','var3list','var4int']"
   ]
  },
  {
   "cell_type": "code",
   "execution_count": 1,
   "id": "a6f9445f-2bda-4393-9105-6662b3ae83ce",
   "metadata": {},
   "outputs": [],
   "source": [
    "pw = \"Q3\""
   ]
  },
  {
   "cell_type": "code",
   "execution_count": 3,
   "id": "5851d8b9-b97b-4701-8c5b-9ba6711ab0c7",
   "metadata": {},
   "outputs": [
    {
     "name": "stdout",
     "output_type": "stream",
     "text": [
      "1.9523809523809523\n"
     ]
    }
   ],
   "source": [
    "a = 41\n",
    "b = 21\n",
    "ans = a / b\n",
    "print(result)\n"
   ]
  },
  {
   "cell_type": "code",
   "execution_count": 5,
   "id": "9873de11-b4c8-4e3c-ae02-aba338801729",
   "metadata": {},
   "outputs": [
    {
     "name": "stdout",
     "output_type": "stream",
     "text": [
      "3\n"
     ]
    }
   ],
   "source": [
    "a = 47\n",
    "b = 22\n",
    "ans = a % b\n",
    "print(result)\n"
   ]
  },
  {
   "cell_type": "code",
   "execution_count": 8,
   "id": "ce6a84df-2c16-46b5-bc9e-cf21cc0c86cd",
   "metadata": {},
   "outputs": [
    {
     "name": "stdout",
     "output_type": "stream",
     "text": [
      "3\n"
     ]
    }
   ],
   "source": [
    "a = 14\n",
    "b = 4\n",
    "ans = a // b\n",
    "print(result)\n"
   ]
  },
  {
   "cell_type": "code",
   "execution_count": 10,
   "id": "a020cf7a-cd77-45cf-9b24-49b3f5b303f2",
   "metadata": {},
   "outputs": [
    {
     "name": "stdout",
     "output_type": "stream",
     "text": [
      "81\n"
     ]
    }
   ],
   "source": [
    "a = 3\n",
    "b = 4\n",
    "ans = a ** b\n",
    "print(result)\n"
   ]
  },
  {
   "cell_type": "code",
   "execution_count": 11,
   "id": "c63329f1-92ee-4240-a96c-29c5b9671440",
   "metadata": {},
   "outputs": [],
   "source": [
    "pw=\"Q4\""
   ]
  },
  {
   "cell_type": "code",
   "execution_count": 13,
   "id": "5637f720-b0ba-4fba-8da7-945d6875a71e",
   "metadata": {},
   "outputs": [
    {
     "name": "stdout",
     "output_type": "stream",
     "text": [
      "11 <class 'int'>\n",
      "mohit <class 'str'>\n",
      "3.16 <class 'float'>\n",
      "False <class 'bool'>\n",
      "[1, 2, 5] <class 'list'>\n",
      "{'name': 'Mayank', 'age': 21} <class 'dict'>\n",
      "None <class 'NoneType'>\n",
      "(4, 5, 6) <class 'tuple'>\n",
      "False <class 'bool'>\n",
      "rahul <class 'str'>\n"
     ]
    }
   ],
   "source": [
    "s = [11, \"mohit\", 3.16, False, [1, 2, 5], {\"name\": \"Mayank\", \"age\": 21}, None, (4, 5, 6), False, \"rahul\"]\n",
    "\n",
    "for element in s:\n",
    "    print(element, type(element))\n"
   ]
  },
  {
   "cell_type": "code",
   "execution_count": 14,
   "id": "12916113-0012-4b04-bde9-ba93e6d36783",
   "metadata": {},
   "outputs": [],
   "source": [
    "pw =\"Q5\""
   ]
  },
  {
   "cell_type": "code",
   "execution_count": 2,
   "id": "64fb41ce-134a-402a-8979-dea7dd5c7b5f",
   "metadata": {},
   "outputs": [
    {
     "name": "stdin",
     "output_type": "stream",
     "text": [
      "Enter the dividend (number A):  12\n",
      "Enter the divisor (number B):  2\n"
     ]
    },
    {
     "name": "stdout",
     "output_type": "stream",
     "text": [
      "The number A is divisible by B, and it can be divided 2 times.\n"
     ]
    }
   ],
   "source": [
    "A = int(input(\"Enter the dividend (number A): \"))\n",
    "B = int(input(\"Enter the divisor (number B): \"))\n",
    "\n",
    "count = 0  \n",
    "\n",
    "while A % B == 0:\n",
    "    A = A // B  \n",
    "    count += 1  \n",
    "\n",
    "if count > 0:\n",
    "    print(f\"The number A is divisible by B, and it can be divided {count} times.\")\n",
    "else:\n",
    "    print(\"The number A is not divisible by B.\")"
   ]
  },
  {
   "cell_type": "code",
   "execution_count": 3,
   "id": "489b9f68-1c37-4a71-b83f-27be361c980a",
   "metadata": {},
   "outputs": [],
   "source": [
    "pw =\"Q6\""
   ]
  },
  {
   "cell_type": "code",
   "execution_count": 4,
   "id": "df693f33-12f2-4203-b8b9-b69cc82a9550",
   "metadata": {},
   "outputs": [
    {
     "name": "stdout",
     "output_type": "stream",
     "text": [
      "6 is divisible by 3\n",
      "12 is divisible by 3\n",
      "7 is not divisible by 3\n",
      "18 is divisible by 3\n",
      "9 is divisible by 3\n",
      "22 is not divisible by 3\n",
      "30 is divisible by 3\n",
      "4 is not divisible by 3\n",
      "15 is divisible by 3\n",
      "27 is divisible by 3\n",
      "36 is divisible by 3\n",
      "13 is not divisible by 3\n",
      "19 is not divisible by 3\n",
      "21 is divisible by 3\n",
      "33 is divisible by 3\n",
      "10 is not divisible by 3\n",
      "8 is not divisible by 3\n",
      "25 is not divisible by 3\n",
      "17 is not divisible by 3\n",
      "14 is not divisible by 3\n",
      "31 is not divisible by 3\n",
      "28 is not divisible by 3\n",
      "16 is not divisible by 3\n",
      "20 is not divisible by 3\n",
      "11 is not divisible by 3\n"
     ]
    }
   ],
   "source": [
    "A = [6, 12, 7, 18, 9, 22, 30, 4, 15, 27, 36, 13, 19, 21, 33, 10, 8, 25, 17, 14, 31, 28, 16, 20, 11]\n",
    "\n",
    "for num in A:\n",
    "    if num % 3 == 0:\n",
    "        print(num, \"is divisible by 3\")\n",
    "    else:\n",
    "        print(num, \"is not divisible by 3\")\n"
   ]
  },
  {
   "cell_type": "code",
   "execution_count": 1,
   "id": "8ee5f257-63be-40e5-98e4-e5d587d6068b",
   "metadata": {},
   "outputs": [
    {
     "ename": "TypeError",
     "evalue": "'str' object does not support item assignment",
     "output_type": "error",
     "traceback": [
      "\u001b[0;31m---------------------------------------------------------------------------\u001b[0m",
      "\u001b[0;31mTypeError\u001b[0m                                 Traceback (most recent call last)",
      "Cell \u001b[0;32mIn[1], line 3\u001b[0m\n\u001b[1;32m      1\u001b[0m \u001b[38;5;66;03m#mutable datatype are datatype whoes value is assigned everytime it is created and in immutable datatypes its valued is first seareched if it is already present it will create a reference to it \u001b[39;00m\n\u001b[1;32m      2\u001b[0m st\u001b[38;5;241m=\u001b[39m\u001b[38;5;124m'\u001b[39m\u001b[38;5;124maditya\u001b[39m\u001b[38;5;124m'\u001b[39m\n\u001b[0;32m----> 3\u001b[0m \u001b[43mst\u001b[49m\u001b[43m[\u001b[49m\u001b[38;5;241;43m2\u001b[39;49m\u001b[43m]\u001b[49m\u001b[38;5;241m=\u001b[39m\u001b[38;5;124m'\u001b[39m\u001b[38;5;124my\u001b[39m\u001b[38;5;124m'\u001b[39m\n\u001b[1;32m      4\u001b[0m \u001b[38;5;66;03m#the above line will throw an error because it is immutable\u001b[39;00m\n",
      "\u001b[0;31mTypeError\u001b[0m: 'str' object does not support item assignment"
     ]
    }
   ],
   "source": [
    "#mutable datatype are datatype whoes value is assigned everytime it is created and in immutable datatypes its valued is first seareched if it is already present it will create a reference to it \n",
    "st='aditya'\n",
    "st[2]='y'\n",
    "#the above line will throw an error because it is immutable\n"
   ]
  },
  {
   "cell_type": "code",
   "execution_count": 3,
   "id": "6956efc5-8d5b-4048-85ec-af441b2fadb4",
   "metadata": {},
   "outputs": [
    {
     "name": "stdout",
     "output_type": "stream",
     "text": [
      "30\n",
      "40\n"
     ]
    }
   ],
   "source": [
    "a=30\n",
    "print(a)\n",
    "a=40\n",
    "print(a)\n",
    "#this show the mutable characterstic of the integer variable"
   ]
  },
  {
   "cell_type": "code",
   "execution_count": null,
   "id": "b5be7695-eff6-4665-9676-2eba57dc5bd6",
   "metadata": {},
   "outputs": [],
   "source": []
  }
 ],
 "metadata": {
  "kernelspec": {
   "display_name": "Python 3 (ipykernel)",
   "language": "python",
   "name": "python3"
  },
  "language_info": {
   "codemirror_mode": {
    "name": "ipython",
    "version": 3
   },
   "file_extension": ".py",
   "mimetype": "text/x-python",
   "name": "python",
   "nbconvert_exporter": "python",
   "pygments_lexer": "ipython3",
   "version": "3.10.8"
  }
 },
 "nbformat": 4,
 "nbformat_minor": 5
}
